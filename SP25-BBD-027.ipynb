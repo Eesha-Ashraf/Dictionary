{
 "cells": [
  {
   "cell_type": "markdown",
   "id": "10e1746e-cb41-4b72-bfde-391e9fec0375",
   "metadata": {},
   "source": [
    "# Question #1: Fibonacci series"
   ]
  },
  {
   "cell_type": "code",
   "execution_count": 1,
   "id": "8ecd102a-faf8-483d-a287-c4ed8f07e6ee",
   "metadata": {},
   "outputs": [
    {
     "name": "stdout",
     "output_type": "stream",
     "text": [
      "[0, 1, 1, 2, 3, 5, 8, 13, 21, 34]\n"
     ]
    }
   ],
   "source": [
    "fibonacci = [0, 1]\n",
    "for i in range(2, 10):\n",
    "    new_element = fibonacci[-1]+ fibonacci[-2]\n",
    "    fibonacci.append(new_element)\n",
    "print(fibonacci)"
   ]
  },
  {
   "cell_type": "markdown",
   "id": "1a1cce6a-9619-4069-8360-8942e463cd4d",
   "metadata": {},
   "source": [
    "# Question #2: Prime numbers"
   ]
  },
  {
   "cell_type": "code",
   "execution_count": 2,
   "id": "888938f1-cce5-4763-9d66-448411e9b724",
   "metadata": {},
   "outputs": [
    {
     "name": "stdout",
     "output_type": "stream",
     "text": [
      "[2, 3, 5, 7, 11, 13, 17, 19, 23, 29, 31, 37, 41, 43, 47, 53, 59, 61, 67, 71, 73, 79, 83, 89, 97]\n"
     ]
    }
   ],
   "source": [
    "primes=[]\n",
    "for num in range(2, 101):\n",
    "    is_prime = True\n",
    "    for i in range(2, int(num**0.5)+1):\n",
    "        if num % i==0:\n",
    "            is_prime= False\n",
    "            break\n",
    "    if is_prime:\n",
    "        primes.append(num)\n",
    "print(primes)"
   ]
  },
  {
   "cell_type": "markdown",
   "id": "4d030b28-cb63-423f-aa70-5c8607f2c6f4",
   "metadata": {},
   "source": [
    "# Question #3: Movie Tickets"
   ]
  },
  {
   "cell_type": "markdown",
   "id": "0ba84979-d526-43bc-910c-da6451f6b088",
   "metadata": {},
   "source": [
    "# Part 1"
   ]
  },
  {
   "cell_type": "code",
   "execution_count": 3,
   "id": "4b7c3471-bcd3-4481-884f-fd93c1e21849",
   "metadata": {},
   "outputs": [
    {
     "name": "stdin",
     "output_type": "stream",
     "text": [
      "Enter your age: 3\n"
     ]
    },
    {
     "name": "stdout",
     "output_type": "stream",
     "text": [
      "The movie theatre tickets costs $10.\n"
     ]
    },
    {
     "name": "stdin",
     "output_type": "stream",
     "text": [
      "Enter your age: 14\n"
     ]
    },
    {
     "name": "stdout",
     "output_type": "stream",
     "text": [
      "The movie theatre ticket costs $15.\n"
     ]
    },
    {
     "name": "stdin",
     "output_type": "stream",
     "text": [
      "Enter your age: 24\n"
     ]
    },
    {
     "name": "stdout",
     "output_type": "stream",
     "text": [
      "The movie theatre ticket costs $15.\n"
     ]
    },
    {
     "name": "stdin",
     "output_type": "stream",
     "text": [
      "Enter your age: 36\n"
     ]
    },
    {
     "name": "stdout",
     "output_type": "stream",
     "text": [
      "The movie theatre ticket costs $15.\n"
     ]
    },
    {
     "name": "stdin",
     "output_type": "stream",
     "text": [
      "Enter your age: 45\n"
     ]
    },
    {
     "name": "stdout",
     "output_type": "stream",
     "text": [
      "The movie theatre ticket costs $15.\n"
     ]
    }
   ],
   "source": [
    "for i in range(5):\n",
    "    age = int(input(\"Enter your age:\"))\n",
    "    if age < 3:\n",
    "        print(\"No ticket required for children under 3 years.\")\n",
    "    elif age <= 12:\n",
    "        print(\"The movie theatre tickets costs $10.\")\n",
    "    else:\n",
    "        print(\"The movie theatre ticket costs $15.\")\n",
    "        "
   ]
  },
  {
   "cell_type": "markdown",
   "id": "b2cbb1b3-f546-44f2-b3e2-53fb60025c9b",
   "metadata": {},
   "source": [
    "# Part 2"
   ]
  },
  {
   "cell_type": "code",
   "execution_count": 4,
   "id": "38c50770-562a-4452-8a4f-2b3635b99a38",
   "metadata": {},
   "outputs": [
    {
     "name": "stdin",
     "output_type": "stream",
     "text": [
      "Enter your age: 12\n"
     ]
    },
    {
     "name": "stdout",
     "output_type": "stream",
     "text": [
      "The movie theatre tickets costs $10.\n"
     ]
    },
    {
     "name": "stdin",
     "output_type": "stream",
     "text": [
      "Would you like to enter another age? Enter 'no' to quit:  yes\n",
      "Enter your age: 44\n"
     ]
    },
    {
     "name": "stdout",
     "output_type": "stream",
     "text": [
      "The movie theatre tickets costs $15.\n"
     ]
    },
    {
     "name": "stdin",
     "output_type": "stream",
     "text": [
      "Would you like to enter another age? Enter 'no' to quit:  no\n"
     ]
    }
   ],
   "source": [
    "active = True\n",
    "while active:\n",
    "    age = int(input(\"Enter your age:\"))\n",
    "    if age < 3:\n",
    "        print(\"No ticket required for children under 3 years.\")\n",
    "    elif age <= 12:\n",
    "        print(\"The movie theatre tickets costs $10.\")\n",
    "    else:\n",
    "        print(\"The movie theatre tickets costs $15.\")\n",
    "    continue_prompt = input(\"Would you like to enter another age? Enter 'no' to quit: \")\n",
    "    if continue_prompt.lower() == 'no':\n",
    "        active = False"
   ]
  },
  {
   "cell_type": "markdown",
   "id": "d4f4b58f-f1dd-4c59-b504-427d1db4dc7b",
   "metadata": {},
   "source": [
    "# Question #4: Dictionary of cities"
   ]
  },
  {
   "cell_type": "code",
   "execution_count": 5,
   "id": "37523b5d-66ca-4021-9054-c8706e35b0af",
   "metadata": {},
   "outputs": [
    {
     "name": "stdout",
     "output_type": "stream",
     "text": [
      "The city selected is Lahore\n",
      "Its information is given below\n",
      "country: Pakistan, landmark: Minar-e-Pakistan, university: CUI Lahore Campus\n",
      "\n",
      "The city selected is Karachi\n",
      "Its information is given below\n",
      "country: Pakistan, landmark: Mazar-e-Quaid, university: Agha Khan University\n",
      "\n",
      "The city selected is Islamabad\n",
      "Its information is given below\n",
      "country: Pakistan, landmark: Faisal Mosque, university: NUST\n",
      "\n",
      "The city selected is Peshawar\n",
      "Its information is given below\n",
      "country: Pakistan, landmark: Bala Hisar Fort, university: University of Peshawar\n",
      "\n",
      "The city selected is Quetta\n",
      "Its information is given below\n",
      "country: Pakistan, landmark: Hanna Lake, university: University of Balochistan\n",
      "\n"
     ]
    }
   ],
   "source": [
    "cities = {\n",
    "    'Lahore': {'country': 'Pakistan', 'landmark': 'Minar-e-Pakistan', 'university': 'CUI Lahore Campus'},\n",
    "    'Karachi': {'country': 'Pakistan', 'landmark': 'Mazar-e-Quaid', 'university': 'Agha Khan University'},\n",
    "    'Islamabad': {'country': 'Pakistan', 'landmark': 'Faisal Mosque', 'university': 'NUST'},\n",
    "    'Peshawar': {'country': 'Pakistan', 'landmark': 'Bala Hisar Fort', 'university': 'University of Peshawar'},\n",
    "    'Quetta': {'country': 'Pakistan', 'landmark': 'Hanna Lake', 'university': 'University of Balochistan'}\n",
    "}\n",
    "\n",
    "for city, info in cities.items():\n",
    "    print(f\"The city selected is {city}\")\n",
    "    print(\"Its information is given below\")\n",
    "    print(f\"country: {info['country']}, landmark: {info['landmark']}, university: {info['university']}\\n\")"
   ]
  },
  {
   "cell_type": "markdown",
   "id": "1ac14bae-4c6c-4722-8adc-502230cbed60",
   "metadata": {},
   "source": [
    "# Question #5: Dictionary to store people’s favourite numbers"
   ]
  },
  {
   "cell_type": "code",
   "execution_count": 6,
   "id": "c0024aed-c68f-40dd-9d84-cdcb28589bc2",
   "metadata": {},
   "outputs": [
    {
     "name": "stdout",
     "output_type": "stream",
     "text": [
      "Person name:  Ammara\n",
      "Maximum value:  230\n",
      "\n",
      "Person name:  Alishba\n",
      "Maximum value:  75\n",
      "\n",
      "Person name:  Hiba\n",
      "Maximum value:  90\n",
      "\n",
      "Person name:  Zara\n",
      "Maximum value:  78\n",
      "\n"
     ]
    }
   ],
   "source": [
    "persons = {\n",
    "    'Ammara': [14, 65, 42, 52, 230],\n",
    "    'Alishba': [10, 0, 26, 75, 13],\n",
    "    'Hiba': [23, 62, 54, 67, 90],\n",
    "    'Zara': [33, 65, 56, 78, 43]\n",
    "}\n",
    "\n",
    "for name, numbers in persons.items():\n",
    "    print(f\"Person name:  {name}\")\n",
    "    print(f\"Maximum value:  {max(numbers)}\\n\")"
   ]
  },
  {
   "cell_type": "code",
   "execution_count": null,
   "id": "fb22f8ca-35d0-48f5-aefe-d73ac7e92507",
   "metadata": {},
   "outputs": [],
   "source": []
  }
 ],
 "metadata": {
  "kernelspec": {
   "display_name": "Python 3 (ipykernel)",
   "language": "python",
   "name": "python3"
  },
  "language_info": {
   "codemirror_mode": {
    "name": "ipython",
    "version": 3
   },
   "file_extension": ".py",
   "mimetype": "text/x-python",
   "name": "python",
   "nbconvert_exporter": "python",
   "pygments_lexer": "ipython3",
   "version": "3.12.7"
  }
 },
 "nbformat": 4,
 "nbformat_minor": 5
}
